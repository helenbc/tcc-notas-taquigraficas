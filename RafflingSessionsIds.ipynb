{
 "cells": [
  {
   "cell_type": "code",
   "execution_count": 11,
   "metadata": {},
   "outputs": [],
   "source": [
    "import os\n",
    "import json\n",
    "import pandas as pd\n",
    "import random"
   ]
  },
  {
   "cell_type": "code",
   "execution_count": 12,
   "metadata": {},
   "outputs": [],
   "source": [
    "meetings_df = pd.read_csv('./meetings.csv')\n",
    "\n",
    "small_session_ids = []\n",
    "with open('./sizes/small_sessions.json') as f:\n",
    "    small_session_ids = json.load(f)\n",
    "\n",
    "small_ids = random.sample(small_session_ids, 2)\n",
    "\n",
    "\n",
    "medium_session_ids = []\n",
    "with open('./sizes/medium_sessions.json') as f:\n",
    "    medium_session_ids = json.load(f)\n",
    "\n",
    "medium_ids = random.sample(medium_session_ids, 2)\n",
    "\n",
    "\n",
    "big_session_ids = []\n",
    "with open('./sizes/big_sessions.json') as f:\n",
    "    big_session_ids = json.load(f)\n",
    "\n",
    "big_ids = random.sample(big_session_ids, 2)\n"
   ]
  },
  {
   "cell_type": "code",
   "execution_count": 13,
   "metadata": {},
   "outputs": [
    {
     "name": "stdout",
     "output_type": "stream",
     "text": [
      "small session ids: [25611, 25636]\n"
     ]
    }
   ],
   "source": [
    "print('small session ids:', small_ids)"
   ]
  },
  {
   "cell_type": "code",
   "execution_count": 14,
   "metadata": {},
   "outputs": [],
   "source": [
    "result_df = pd.DataFrame({ 'id_session': [], 'session_size': [] })\n",
    "\n",
    "for session_id in small_ids:\n",
    "    new_row = {'id_session': session_id, 'session_size': 'small'}\n",
    "    result_df.loc[len(result_df)] = new_row\n",
    "\n",
    "for session_id in medium_ids:\n",
    "    new_row = {'id_session': session_id, 'session_size': 'medium'}\n",
    "    result_df.loc[len(result_df)] = new_row\n",
    "\n",
    "for session_id in big_ids:\n",
    "    new_row = {'id_session': session_id, 'session_size': 'big'}\n",
    "    result_df.loc[len(result_df)] = new_row\n",
    "\n",
    "result_df.to_csv('./session_sizes.csv', index=False)"
   ]
  }
 ],
 "metadata": {
  "kernelspec": {
   "display_name": "Python 3",
   "language": "python",
   "name": "python3"
  },
  "language_info": {
   "codemirror_mode": {
    "name": "ipython",
    "version": 3
   },
   "file_extension": ".py",
   "mimetype": "text/x-python",
   "name": "python",
   "nbconvert_exporter": "python",
   "pygments_lexer": "ipython3",
   "version": "3.10.12"
  }
 },
 "nbformat": 4,
 "nbformat_minor": 2
}
